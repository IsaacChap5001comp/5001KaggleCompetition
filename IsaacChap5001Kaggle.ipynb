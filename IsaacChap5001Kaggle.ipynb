{
 "cells": [
  {
   "cell_type": "code",
   "execution_count": 224,
   "metadata": {},
   "outputs": [],
   "source": [
    "from sklearn.neural_network import MLPClassifier\n",
    "import pandas as pd\n",
    "import csv\n",
    "import numpy as np\n",
    "import seaborn\n",
    "import torch\n",
    "import plotly.express as px\n",
    "from sklearn.linear_model import LinearRegression\n",
    "from sklearn.linear_model import LogisticRegression\n",
    "from sklearn.ensemble import RandomForestClassifier\n",
    "from sklearn.datasets import make_classification\n",
    "from sklearn.preprocessing import MinMaxScaler\n",
    "from sklearn.tree import DecisionTreeClassifier\n",
    "from sklearn.metrics import accuracy_score, precision_score, recall_score, f1_score, classification_report\n",
    "from sklearn.neighbors import KNeighborsClassifier\n",
    "from sklearn.ensemble import RandomForestClassifier\n",
    "import itertools\n",
    "import matplotlib.pyplot as plt\n",
    "import time\n",
    "from sklearn.model_selection import train_test_split\n",
    "from torch.utils.data import TensorDataset, DataLoader\n",
    "from sklearn.metrics import accuracy_score, confusion_matrix, roc_auc_score\n",
    "import matplotlib.pyplot as plt"
   ]
  },
  {
   "cell_type": "code",
   "execution_count": 225,
   "metadata": {},
   "outputs": [
    {
     "name": "stdout",
     "output_type": "stream",
     "text": [
      "<class 'pandas.core.frame.DataFrame'>\n",
      "Int64Index: 86 entries, 0 to 86\n",
      "Data columns (total 13 columns):\n",
      " #   Column                    Non-Null Count  Dtype  \n",
      "---  ------                    --------------  -----  \n",
      " 0   id                        86 non-null     int64  \n",
      " 1   MO HLADR+ MFI (cells/ul)  86 non-null     float64\n",
      " 2   Neu CD64+MFI (cells/ul)   86 non-null     float64\n",
      " 3   CD3+T (cells/ul)          86 non-null     float64\n",
      " 4   CD8+T (cells/ul)          86 non-null     float64\n",
      " 5   CD4+T (cells/ul)          86 non-null     float64\n",
      " 6   NK (cells/ul)             86 non-null     float64\n",
      " 7   CD19+ (cells/ul)          86 non-null     float64\n",
      " 8   CD45+ (cells/ul)          86 non-null     float64\n",
      " 9   Age                       86 non-null     int64  \n",
      " 10  Sex 0M1F                  86 non-null     int64  \n",
      " 11  Mono CD64+MFI (cells/ul)  86 non-null     float64\n",
      " 12  label                     86 non-null     int64  \n",
      "dtypes: float64(9), int64(4)\n",
      "memory usage: 9.4 KB\n"
     ]
    }
   ],
   "source": [
    "traindata = pd.read_csv('/Users/ifc090/Downloads/msbd5001-spring-2022/train.csv')\n",
    "#print(traindata.isnull().sum())\n",
    "\n",
    "testdata = pd.read_csv('/Users/ifc090/Downloads/msbd5001-spring-2022/test.csv')\n",
    "testdata\n",
    "traindata.dropna(inplace = True)\n",
    "#traindata.drop(\"id\", axis = 1, inplace = True)\n",
    "#print(traindata.isnull().sum())\n",
    "traindata.info()"
   ]
  },
  {
   "cell_type": "code",
   "execution_count": 226,
   "metadata": {},
   "outputs": [
    {
     "data": {
      "text/html": [
       "<div>\n",
       "<style scoped>\n",
       "    .dataframe tbody tr th:only-of-type {\n",
       "        vertical-align: middle;\n",
       "    }\n",
       "\n",
       "    .dataframe tbody tr th {\n",
       "        vertical-align: top;\n",
       "    }\n",
       "\n",
       "    .dataframe thead th {\n",
       "        text-align: right;\n",
       "    }\n",
       "</style>\n",
       "<table border=\"1\" class=\"dataframe\">\n",
       "  <thead>\n",
       "    <tr style=\"text-align: right;\">\n",
       "      <th></th>\n",
       "      <th>MO HLADR+ MFI (cells/ul)</th>\n",
       "      <th>Neu CD64+MFI (cells/ul)</th>\n",
       "      <th>CD3+T (cells/ul)</th>\n",
       "      <th>CD8+T (cells/ul)</th>\n",
       "      <th>CD4+T (cells/ul)</th>\n",
       "      <th>NK (cells/ul)</th>\n",
       "      <th>CD19+ (cells/ul)</th>\n",
       "      <th>CD45+ (cells/ul)</th>\n",
       "      <th>Age</th>\n",
       "      <th>Sex 0M1F</th>\n",
       "      <th>Mono CD64+MFI (cells/ul)</th>\n",
       "    </tr>\n",
       "  </thead>\n",
       "  <tbody>\n",
       "    <tr>\n",
       "      <th>0</th>\n",
       "      <td>2843.0</td>\n",
       "      <td>156.0</td>\n",
       "      <td>1358.52</td>\n",
       "      <td>730.78</td>\n",
       "      <td>637.85</td>\n",
       "      <td>127.06</td>\n",
       "      <td>94.82</td>\n",
       "      <td>1588.62</td>\n",
       "      <td>45</td>\n",
       "      <td>1</td>\n",
       "      <td>3256.0</td>\n",
       "    </tr>\n",
       "    <tr>\n",
       "      <th>1</th>\n",
       "      <td>437.0</td>\n",
       "      <td>137.0</td>\n",
       "      <td>509.43</td>\n",
       "      <td>268.05</td>\n",
       "      <td>243.07</td>\n",
       "      <td>390.86</td>\n",
       "      <td>98.24</td>\n",
       "      <td>1002.76</td>\n",
       "      <td>51</td>\n",
       "      <td>1</td>\n",
       "      <td>491.0</td>\n",
       "    </tr>\n",
       "    <tr>\n",
       "      <th>2</th>\n",
       "      <td>826.0</td>\n",
       "      <td>82.0</td>\n",
       "      <td>1232.22</td>\n",
       "      <td>493.42</td>\n",
       "      <td>744.08</td>\n",
       "      <td>516.28</td>\n",
       "      <td>320.15</td>\n",
       "      <td>2200.58</td>\n",
       "      <td>32</td>\n",
       "      <td>0</td>\n",
       "      <td>1381.0</td>\n",
       "    </tr>\n",
       "    <tr>\n",
       "      <th>3</th>\n",
       "      <td>861.0</td>\n",
       "      <td>50.0</td>\n",
       "      <td>1512.86</td>\n",
       "      <td>925.51</td>\n",
       "      <td>590.07</td>\n",
       "      <td>380.25</td>\n",
       "      <td>25.80</td>\n",
       "      <td>1929.10</td>\n",
       "      <td>50</td>\n",
       "      <td>0</td>\n",
       "      <td>1377.0</td>\n",
       "    </tr>\n",
       "    <tr>\n",
       "      <th>4</th>\n",
       "      <td>1160.0</td>\n",
       "      <td>157.0</td>\n",
       "      <td>890.42</td>\n",
       "      <td>403.91</td>\n",
       "      <td>489.53</td>\n",
       "      <td>266.92</td>\n",
       "      <td>87.63</td>\n",
       "      <td>1251.52</td>\n",
       "      <td>43</td>\n",
       "      <td>0</td>\n",
       "      <td>1844.0</td>\n",
       "    </tr>\n",
       "  </tbody>\n",
       "</table>\n",
       "</div>"
      ],
      "text/plain": [
       "   MO HLADR+ MFI (cells/ul)  Neu CD64+MFI (cells/ul)  CD3+T (cells/ul)  \\\n",
       "0                    2843.0                    156.0           1358.52   \n",
       "1                     437.0                    137.0            509.43   \n",
       "2                     826.0                     82.0           1232.22   \n",
       "3                     861.0                     50.0           1512.86   \n",
       "4                    1160.0                    157.0            890.42   \n",
       "\n",
       "   CD8+T (cells/ul)  CD4+T (cells/ul)  NK (cells/ul)  CD19+ (cells/ul)  \\\n",
       "0            730.78            637.85         127.06             94.82   \n",
       "1            268.05            243.07         390.86             98.24   \n",
       "2            493.42            744.08         516.28            320.15   \n",
       "3            925.51            590.07         380.25             25.80   \n",
       "4            403.91            489.53         266.92             87.63   \n",
       "\n",
       "   CD45+ (cells/ul)  Age  Sex 0M1F  Mono CD64+MFI (cells/ul)  \n",
       "0           1588.62   45         1                    3256.0  \n",
       "1           1002.76   51         1                     491.0  \n",
       "2           2200.58   32         0                    1381.0  \n",
       "3           1929.10   50         0                    1377.0  \n",
       "4           1251.52   43         0                    1844.0  "
      ]
     },
     "execution_count": 226,
     "metadata": {},
     "output_type": "execute_result"
    }
   ],
   "source": [
    "#traindata.head()\n",
    "\n",
    "trainx = traindata.iloc[:, 1:12]\n",
    "trainx.head()\n",
    "\n",
    "trainy = traindata.iloc[:, -1]\n",
    "trainy.head()\n",
    "\n",
    "testx = testdata.iloc[:, 1:12]\n",
    "testx.head()"
   ]
  },
  {
   "cell_type": "code",
   "execution_count": 227,
   "metadata": {},
   "outputs": [],
   "source": [
    "scaler = MinMaxScaler()\n",
    "scaler.fit(trainx)\n",
    "trainx = scaler.transform(trainx)\n",
    "testx = scaler.transform(testx)\n",
    "#trainx"
   ]
  },
  {
   "cell_type": "code",
   "execution_count": 228,
   "metadata": {},
   "outputs": [
    {
     "data": {
      "text/plain": [
       "0.5375356490784997"
      ]
     },
     "execution_count": 228,
     "metadata": {},
     "output_type": "execute_result"
    }
   ],
   "source": [
    "reg = LinearRegression().fit(trainx, trainy)\n",
    "reg.score(trainx, trainy)"
   ]
  },
  {
   "cell_type": "code",
   "execution_count": 229,
   "metadata": {},
   "outputs": [
    {
     "data": {
      "text/plain": [
       "1.0"
      ]
     },
     "execution_count": 229,
     "metadata": {},
     "output_type": "execute_result"
    }
   ],
   "source": [
    "clf = RandomForestClassifier(n_estimators = 1000, random_state=0)\n",
    "#0.956 no max depth\n",
    "#max_depth 2 0.93 underfit\n",
    "clf.fit(trainx, trainy)\n",
    "clf.score(trainx, trainy)"
   ]
  },
  {
   "cell_type": "code",
   "execution_count": 230,
   "metadata": {},
   "outputs": [
    {
     "data": {
      "text/plain": [
       "0.9302325581395349"
      ]
     },
     "execution_count": 230,
     "metadata": {},
     "output_type": "execute_result"
    }
   ],
   "source": [
    "clf = LogisticRegression(random_state=0, max_iter = 5000, multi_class = \"ovr\", penalty = \"none\").fit(trainx, trainy)\n",
    "clf.score(trainx, trainy)"
   ]
  },
  {
   "cell_type": "code",
   "execution_count": 231,
   "metadata": {},
   "outputs": [
    {
     "data": {
      "text/plain": [
       "0.9767441860465116"
      ]
     },
     "execution_count": 231,
     "metadata": {},
     "output_type": "execute_result"
    }
   ],
   "source": [
    "#100 1000 0.01 overfit 1.0 --- 0.86\n",
    "#10 1000 0.01 0.95 ---- 0.82\n",
    "#100 400 0.01 0.96 ---- 0.89\n",
    "#15,12 300 0.01 1.00 ---- 0.86\n",
    "clf = MLPClassifier(solver = \"lbfgs\", hidden_layer_sizes = (100,), alpha = 0.1, random_state=0, learning_rate_init = 0.01, max_iter = 1000).fit(trainx, trainy)\n",
    "clf.score(trainx, trainy)"
   ]
  },
  {
   "cell_type": "code",
   "execution_count": 232,
   "metadata": {},
   "outputs": [],
   "source": [
    "outputs = clf.predict(testx)\n",
    "df = pd.DataFrame(outputs, columns = [\"label\"])\n",
    "df.to_csv(\"ICsubmission.csv\", index_label = \"id\", index = True)"
   ]
  },
  {
   "cell_type": "code",
   "execution_count": null,
   "metadata": {},
   "outputs": [],
   "source": [
    "fig = traindata.plot(x = 'MO HLADR+ MFI (cells/ul)', y = 'label', kind = 'scatter')\n",
    "plt.show()"
   ]
  },
  {
   "cell_type": "code",
   "execution_count": null,
   "metadata": {},
   "outputs": [],
   "source": [
    "fig = traindata.plot(x = 'CD3+T (cells/ul)', y = 'label', kind = 'scatter')\n",
    "plt.show()"
   ]
  },
  {
   "cell_type": "code",
   "execution_count": null,
   "metadata": {},
   "outputs": [],
   "source": [
    "fig = traindata.plot(x = 'CD8+T (cells/ul)', y = 'label', kind = 'scatter')\n",
    "plt.show()"
   ]
  },
  {
   "cell_type": "code",
   "execution_count": null,
   "metadata": {},
   "outputs": [],
   "source": [
    "fig = traindata.plot(x = 'CD4+T (cells/ul)', y = 'label', kind = 'scatter')\n",
    "plt.show()"
   ]
  },
  {
   "cell_type": "code",
   "execution_count": null,
   "metadata": {},
   "outputs": [],
   "source": [
    "fig = traindata.plot(x = 'NK (cells/ul)', y = 'label', kind = 'scatter')\n",
    "plt.show()"
   ]
  },
  {
   "cell_type": "code",
   "execution_count": null,
   "metadata": {},
   "outputs": [],
   "source": [
    "fig = traindata.plot(x = 'CD19+ (cells/ul)', y = 'label', kind = 'scatter')\n",
    "plt.show()"
   ]
  },
  {
   "cell_type": "code",
   "execution_count": null,
   "metadata": {},
   "outputs": [],
   "source": [
    "fig = traindata.plot(x = 'CD45+ (cells/ul)', y = 'label', kind = 'scatter')\n",
    "plt.show()"
   ]
  },
  {
   "cell_type": "code",
   "execution_count": null,
   "metadata": {},
   "outputs": [],
   "source": [
    "fig = traindata.plot(x = 'Age', y = 'label', kind = 'scatter')\n",
    "plt.show()"
   ]
  },
  {
   "cell_type": "code",
   "execution_count": null,
   "metadata": {},
   "outputs": [],
   "source": [
    "fig = traindata.plot(x = 'Sex 0M1F', y = 'label', kind = 'bar')\n",
    "plt.show()"
   ]
  },
  {
   "cell_type": "code",
   "execution_count": null,
   "metadata": {},
   "outputs": [],
   "source": [
    "fig = traindata.plot(x = 'Mono CD64+MFI (cells/ul)', y = 'label', kind = 'scatter')\n",
    "plt.show()"
   ]
  }
 ],
 "metadata": {
  "kernelspec": {
   "display_name": "Python 3",
   "language": "python",
   "name": "python3"
  },
  "language_info": {
   "codemirror_mode": {
    "name": "ipython",
    "version": 3
   },
   "file_extension": ".py",
   "mimetype": "text/x-python",
   "name": "python",
   "nbconvert_exporter": "python",
   "pygments_lexer": "ipython3",
   "version": "3.8.3"
  }
 },
 "nbformat": 4,
 "nbformat_minor": 4
}
